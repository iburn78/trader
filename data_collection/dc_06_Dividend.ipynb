{
 "cells": [
  {
   "cell_type": "markdown",
   "metadata": {},
   "source": [
    "High dividend payout companies... and good financial health \n",
    "- Such as Shell: high foreign holdings so must payout high dividend"
   ]
  },
  {
   "cell_type": "code",
   "execution_count": null,
   "metadata": {},
   "outputs": [],
   "source": [
    "import sys, os\n",
    "sys.path.append(os.path.dirname(os.getcwd()))  \n",
    "from tools.koreainvest_module import *\n",
    "import json\n",
    "\n",
    "with open('../../config/config.json', 'r') as json_file:\n",
    "    config = json.load(json_file)\n",
    "    key = config['key']\n",
    "    secret = config['secret']\n",
    "    acc_no = config['acc_no']\n",
    "\n",
    "# broker = KoreaInvestment(api_key=key, api_secret=secret, acc_no=acc_no, mock=False)"
   ]
  }
 ],
 "metadata": {
  "kernelspec": {
   "display_name": "venv",
   "language": "python",
   "name": "python3"
  },
  "language_info": {
   "name": "python",
   "version": "3.11.4"
  },
  "orig_nbformat": 4
 },
 "nbformat": 4,
 "nbformat_minor": 2
}
