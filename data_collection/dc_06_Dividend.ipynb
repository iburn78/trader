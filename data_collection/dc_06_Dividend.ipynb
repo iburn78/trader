{
 "cells": [
  {
   "cell_type": "markdown",
   "metadata": {},
   "source": [
    "High dividend payout companies... and good financial health \n",
    "- Such as Shell: high foreign holdings so must payout high dividend"
   ]
  }
 ],
 "metadata": {
  "language_info": {
   "name": "python"
  },
  "orig_nbformat": 4
 },
 "nbformat": 4,
 "nbformat_minor": 2
}
