{
 "cells": [
  {
   "cell_type": "markdown",
   "metadata": {},
   "source": [
    "Space for post process of downloaded data\n",
    "\n",
    "This code is just needed to be executed once. No need to run again."
   ]
  },
  {
   "cell_type": "code",
   "execution_count": 1,
   "metadata": {},
   "outputs": [],
   "source": [
    "import sys, os\n",
    "sys.path.append(os.path.dirname(os.getcwd()))  \n",
    "from tools.dictionary import *\n",
    "\n",
    "import pandas as pd\n",
    "db1 = pd.read_feather('data/financial_reports_upto_2023-10-06_part1.feather')\n",
    "db2 = pd.read_feather('data/financial_reports_upto_2023-10-07_part2.feather')\n",
    "db3 = pd.read_feather('data/financial_reports_upto_2023-10-07_part3.feather')\n",
    "\n",
    "code_list = db1['code'].unique().tolist()+db2['code'].unique().tolist()+db3['code'].unique().tolist()\n",
    "\n",
    "Q4s = ['2015_4Q', '2016_4Q', '2017_4Q', '2018_4Q', '2019_4Q', '2020_4Q', '2021_4Q', '2022_4Q']\n",
    "FYs = ['FY2015', 'FY2016', 'FY2017', 'FY2018', 'FY2019', 'FY2020', 'FY2021', 'FY2022']"
   ]
  },
  {
   "cell_type": "code",
   "execution_count": null,
   "metadata": {},
   "outputs": [],
   "source": [
    "# below code is for adjusting already downloaded data to correct some error (i.e., sj_div == None)\n",
    "\n",
    "for i in range(len(Q4s)):\n",
    "    db_.loc[(db_['sj_div'].isnull())&(db_['account_nm'].isin(BS_ACCOUNTS)), Q4s[i]] = db_.loc[(db_['sj_div'].isnull())&(db_['account_nm'].isin(BS_ACCOUNTS)), FYs[i]]\n",
    "\n",
    "for i in range(len(Q4s)):\n",
    "    db_.loc[(db_['sj_div'].isnull())&(db_['account_nm'].isin(IS_ACCOUNTS)), Q4s[i]] = db_.loc[(db_['sj_div'].isnull())&(db_['account_nm'].isin(IS_ACCOUNTS)), FYs[i]] - db_.loc[(db_['sj_div'].isnull())&(db_['account_nm'].isin(IS_ACCOUNTS)), Q4s[i]]"
   ]
  },
  {
   "cell_type": "code",
   "execution_count": null,
   "metadata": {},
   "outputs": [],
   "source": [
    "temp_list = []\n",
    "for i in range(len(Q4s)):\n",
    "    temp_list.append(Q4s[i])\n",
    "    temp_list.append(FYs[i])\n",
    "\n",
    "db_ = db1\n",
    "display(db_.loc[(db_['sj_div'].isnull())&(db_['account_nm'].isin(BS_ACCOUNTS)), temp_list]) \n",
    "display(db_.loc[(db_['sj_div'].isnull())&(db_['account_nm'].isin(IS_ACCOUNTS)), temp_list]) \n",
    "display(db_.loc[(db_['sj_div'].isnull())&(db_['account_nm'].isin(IS_ACCOUNTS)), ['code', 'account_nm']+temp_list]) "
   ]
  },
  {
   "cell_type": "code",
   "execution_count": 11,
   "metadata": {},
   "outputs": [],
   "source": [
    "# for some companies, 'REVENUE' item is missing even in recent reports... e.g.,005490(both CFS, OFS missing), 086520(OFS missing)...\n",
    "code = '086520'\n",
    "import json\n",
    "import OpenDartReader\n",
    "with open('../../config/config.json', 'r') as json_file:\n",
    "    config = json.load(json_file)\n",
    "    # dart_api = config['dart_api_1']\n",
    "    # dart_api = config['dart_api_2']\n",
    "    dart_api = config['dart_api_3']\n",
    "\n",
    "dart = OpenDartReader(dart_api)\n",
    "rec = dart.finstate(code, 2022, reprt_code='11011')\n",
    "display(rec)"
   ]
  },
  {
   "cell_type": "code",
   "execution_count": null,
   "metadata": {},
   "outputs": [],
   "source": [
    "# Now, lets remove None in sj_div...\n",
    "for db_ in [db1, db2, db3]:\n",
    "    db_.loc[(db_['sj_div'].isnull())&(db_['account_nm'].isin(BS_ACCOUNTS)), 'sj_div'] = 'BS'\n",
    "    db_.loc[(db_['sj_div'].isnull())&(db_['account_nm'].isin(IS_ACCOUNTS)), 'sj_div'] = 'IS'"
   ]
  },
  {
   "cell_type": "code",
   "execution_count": 15,
   "metadata": {},
   "outputs": [],
   "source": [
    "db1.to_feather('data/financial_reports_upto_2023-10-06_part1.feather')\n",
    "db2.to_feather('data/financial_reports_upto_2023-10-07_part2.feather')\n",
    "db3.to_feather('data/financial_reports_upto_2023-10-07_part3.feather')"
   ]
  }
 ],
 "metadata": {
  "kernelspec": {
   "display_name": "venv",
   "language": "python",
   "name": "python3"
  },
  "language_info": {
   "codemirror_mode": {
    "name": "ipython",
    "version": 3
   },
   "file_extension": ".py",
   "mimetype": "text/x-python",
   "name": "python",
   "nbconvert_exporter": "python",
   "pygments_lexer": "ipython3",
   "version": "3.11.4"
  }
 },
 "nbformat": 4,
 "nbformat_minor": 2
}
