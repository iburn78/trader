{
 "cells": [
  {
   "cell_type": "markdown",
   "metadata": {},
   "source": [
    "PER calcuation based on the last n years of op income, EBITDA and net income for a group of companies in a sector\n",
    "\n",
    "Company value = current value + growth value\n",
    "Capacity of income (cash) generation = normalization of incomes over a cycle of business\n",
    "\n",
    "One effort is to estimate the current value based on the capacity of income generation of a company, using data from the last n years of op income, EBITDA and net income \n",
    "\n"
   ]
  },
  {
   "cell_type": "code",
   "execution_count": 1,
   "metadata": {},
   "outputs": [
    {
     "name": "stderr",
     "output_type": "stream",
     "text": [
      "c:\\Users\\user\\projects\\trader\\venv\\Lib\\site-packages\\bs4\\__init__.py:228: UserWarning: You provided Unicode markup but also provided a value for from_encoding. Your from_encoding will be ignored.\n",
      "  warnings.warn(\"You provided Unicode markup but also provided a value for from_encoding. Your from_encoding will be ignored.\")\n"
     ]
    }
   ],
   "source": [
    "import FinanceDataReader as fdr\n",
    "import pandas as pd\n",
    "import OpenDartReader \n",
    "import json\n",
    "\n",
    "df_krx_desc = fdr.StockListing('KRX-DESC')\n",
    "df_krx = fdr.StockListing('KRX')\n",
    "df_krx.drop(columns=['Close', 'ChangeCode', 'Changes', 'ChagesRatio', 'Open', 'High', 'Low', 'Volume', 'Amount'], inplace=True)"
   ]
  },
  {
   "cell_type": "code",
   "execution_count": 4,
   "metadata": {},
   "outputs": [],
   "source": [
    "df_krx\n",
    "df_krx.to_feather('df_krx.feather')"
   ]
  }
 ],
 "metadata": {
  "kernelspec": {
   "display_name": "venv",
   "language": "python",
   "name": "python3"
  },
  "language_info": {
   "codemirror_mode": {
    "name": "ipython",
    "version": 3
   },
   "file_extension": ".py",
   "mimetype": "text/x-python",
   "name": "python",
   "nbconvert_exporter": "python",
   "pygments_lexer": "ipython3",
   "version": "3.11.4"
  },
  "orig_nbformat": 4
 },
 "nbformat": 4,
 "nbformat_minor": 2
}
