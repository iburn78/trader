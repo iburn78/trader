{
 "cells": [
  {
   "cell_type": "markdown",
   "metadata": {},
   "source": [
    "PER calcuation based on the last n years of op income, EBITDA and net income for a group of companies in a sector\n",
    "\n",
    "Company value = current value + growth value\n",
    "Capacity of income (cash) generation = normalization of incomes over a cycle of business\n",
    "\n",
    "One effort is to estimate the current value based on the capacity of income generation of a company, using data from the last n years of op income, EBITDA and net income \n",
    "\n"
   ]
  },
  {
   "cell_type": "code",
   "execution_count": 1,
   "metadata": {},
   "outputs": [],
   "source": [
    "import FinanceDataReader as fdr\n",
    "import pandas as pd\n",
    "import OpenDartReader \n",
    "import json\n"
   ]
  },
  {
   "cell_type": "code",
   "execution_count": 2,
   "metadata": {},
   "outputs": [
    {
     "name": "stderr",
     "output_type": "stream",
     "text": [
      "c:\\Users\\user\\projects\\trader\\venv\\Lib\\site-packages\\bs4\\__init__.py:228: UserWarning: You provided Unicode markup but also provided a value for from_encoding. Your from_encoding will be ignored.\n",
      "  warnings.warn(\"You provided Unicode markup but also provided a value for from_encoding. Your from_encoding will be ignored.\")\n"
     ]
    }
   ],
   "source": [
    "# df_krx preparation\n",
    "\n",
    "# df_krx_desc = fdr.StockListing('KRX-DESC')\n",
    "# df_krx = fdr.StockListing('KRX')\n",
    "\n",
    "# df_krx.drop(columns=['Close', 'ChangeCode', 'Changes', 'ChagesRatio', 'Open', 'High', 'Low', 'Volume', 'Amount'], inplace=True)\n",
    "# cols_to_use = df_krx_desc.columns.difference(df_krx.columns).tolist()\n",
    "# cols_to_use.append('Code')\n",
    "# df_krx = df_krx.merge(df_krx_desc[cols_to_use], on='Code', how='left')\n",
    "\n",
    "# df_krx=df_krx[~df_krx['Dept'].str.contains('관리')]   # remove companies in trouble\n",
    "# df_krx.to_feather('df_krx.feather')"
   ]
  },
  {
   "cell_type": "code",
   "execution_count": null,
   "metadata": {},
   "outputs": [],
   "source": [
    "MARCAP_THRESHOLD = 3000*10**8 \n",
    "SECTOR_TARGET = '특수 목적용 기계 제조업'\n",
    "PRICE_START_DATE = '2013-01-01'"
   ]
  },
  {
   "cell_type": "code",
   "execution_count": 3,
   "metadata": {},
   "outputs": [],
   "source": [
    "# post process of df_krx\n",
    "\n",
    "df_krx = pd.read_feather('df_krx.feather')\n",
    "\n",
    "df_krx = df_krx.loc[df_krx['Marcap'] >= MARCAP_THRESHOLD]\n",
    "sectors_count = df_krx[['Code', 'Sector']].dropna().groupby('Sector').count().sort_values('Code', ascending=False)\n",
    "sector = df_krx.loc[df_krx['Sector']==SECTOR_TARGET]\n"
   ]
  },
  {
   "cell_type": "code",
   "execution_count": 13,
   "metadata": {},
   "outputs": [],
   "source": [
    "# sector specific prices \n",
    "\n",
    "# sector_prices = pd.DataFrame()\n",
    "# for code in sector['Code'][:]:\n",
    "#     sector_prices = pd.concat([sector_prices, fdr.DataReader(code, PRICE_START_DATE)['Close'].rename(code, inplace=True)], axis=1)\n",
    "# sector_prices = sector_prices.sort_index()\n",
    "# sector_prices.to_feather('sector_prices.feather')"
   ]
  },
  {
   "cell_type": "code",
   "execution_count": 21,
   "metadata": {},
   "outputs": [],
   "source": [
    "sector_prices = pd.read_feather('sector_prices.feather')"
   ]
  },
  {
   "cell_type": "code",
   "execution_count": 25,
   "metadata": {},
   "outputs": [],
   "source": [
    "with open('../../config/config.json', 'r') as json_file:\n",
    "    config = json.load(json_file)\n",
    "    dart_api = config['dart_api']\n",
    "\n",
    "dart = OpenDartReader(dart_api)"
   ]
  },
  {
   "cell_type": "code",
   "execution_count": null,
   "metadata": {},
   "outputs": [],
   "source": [
    "import datetime\n",
    "current_year = datetime.datetime.now().year\n",
    "\n",
    "records = []\n",
    "for code in sector['Code'].values:\n",
    "    record = {'code': code}\n",
    "    record['nm_shares']=int(sector.loc[sector['Code']==code]['Stocks'].iloc[0])\n",
    "    listed_year = sector.loc[sector['Code']==code]['ListingDate'].iloc[0].year\n",
    "    if listed_year < 2015:  # Dart only serves since 2015\n",
    "        listed_year = 2015\n",
    "    elif listed_year == current_year: \n",
    "        continue\n",
    "    rec = dart.finstate(code, bsns_year=listed_year)\n",
    "    try:\n",
    "        record[listed_year-2] = int(rec.loc[rec['account_nm']=='영업이익'].iloc[0,:]['bfefrmtrm_amount'].replace(',',''))\n",
    "        record[listed_year-1] = int(rec.loc[rec['account_nm']=='영업이익'].iloc[0,:]['frmtrm_amount'].replace(',',''))\n",
    "    except: \n",
    "        pass\n",
    "    record[listed_year] = int(rec.loc[rec['account_nm']=='영업이익'].iloc[0,:]['thstrm_amount'].replace(',',''))\n",
    "    for yr in range(listed_year+1, 2023):\n",
    "        rec = dart.finstate(code, bsns_year=yr)\n",
    "        opincome = int(rec.loc[rec['account_nm']=='영업이익'].iloc[0,:]['thstrm_amount'].replace(',',''))   # CFS/OFS (if Consolidated exists consolidated op income, otherwise standalone op income)\n",
    "        record[yr] = opincome\n",
    "    records.append(record)\n",
    "    \n"
   ]
  },
  {
   "cell_type": "code",
   "execution_count": null,
   "metadata": {},
   "outputs": [],
   "source": []
  }
 ],
 "metadata": {
  "kernelspec": {
   "display_name": "venv",
   "language": "python",
   "name": "python3"
  },
  "language_info": {
   "codemirror_mode": {
    "name": "ipython",
    "version": 3
   },
   "file_extension": ".py",
   "mimetype": "text/x-python",
   "name": "python",
   "nbconvert_exporter": "python",
   "pygments_lexer": "ipython3",
   "version": "3.11.5"
  },
  "orig_nbformat": 4
 },
 "nbformat": 4,
 "nbformat_minor": 2
}
