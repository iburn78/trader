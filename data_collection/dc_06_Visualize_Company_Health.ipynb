{
 "cells": [
  {
   "cell_type": "code",
   "execution_count": 33,
   "metadata": {},
   "outputs": [],
   "source": [
    "import sys, os\n",
    "sys.path.append(os.path.dirname(os.getcwd()))  \n",
    "from tools.dictionary import *\n",
    "from math import log10\n",
    "import seaborn as sns\n",
    "import matplotlib.pyplot as plt\n",
    "import pandas as pd\n",
    "\n",
    "def plot_company_financial_summary(db, code, path=None):\n",
    "    quarter_cols= [s for s in db.columns.values if 'Q' in s]\n",
    "    y = db.loc[(db['code']==code) & (db['fs_div']=='CFS'), ['account']+quarter_cols].set_index(['account'])\n",
    "    date_updated = str(db.loc[(db['code']==code) & (db['fs_div']=='CFS'), 'date_updated'].values[0])\n",
    "    y.columns = [s.replace('2020','XX').replace('20','').replace('XX','20').replace('_','.') for s in quarter_cols]\n",
    "    yiu = y/KRW_UNIT \n",
    "\n",
    "    yiu.loc['opmargin', :] = yiu.loc['operating_income']/yiu.loc['revenue']*100\n",
    "    yiu.loc['liquid_asset_ratio', :] = yiu.loc['liquid_assets']/yiu.loc['assets']*100\n",
    "    yiu.loc['liquid_debt_ratio', :] = yiu.loc['liquid_debts']/yiu.loc['debts']*100\n",
    "    yiu.loc['debt_to_equity_ratio', :] = yiu.loc['debts']/yiu.loc['equity']*100\n",
    "\n",
    "    f, ax = plt.subplots(4, 1, figsize=(20, 15), constrained_layout=True, gridspec_kw={'height_ratios': [5, 3, 3, 3]})\n",
    "    f.set_constrained_layout_pads(w_pad=0, h_pad=0.1, hspace=0, wspace=0.)\n",
    "    sns.set_theme(style=\"dark\")\n",
    "    sns.despine(left=True, bottom=False)\n",
    "    _plot_barline(ax[0], yiu, 'revenue', 'operating_income', 'opmargin', 'profit_before_tax')\n",
    "    _plot_barline(ax[1], yiu, 'assets', 'liquid_assets', 'liquid_asset_ratio')\n",
    "    _plot_barline(ax[2], yiu, 'debts', 'liquid_debts', 'liquid_debt_ratio')\n",
    "    _plot_barline(ax[3], yiu, 'equity', 'retained_earnings', 'debt_to_equity_ratio')\n",
    "\n",
    "    df_krx = pd.read_feather('data/df_krx.feather')\n",
    "    name = df_krx['Name'][code]\n",
    "\n",
    "    kor_ft={'font':'Malgun Gothic'}\n",
    "    f.suptitle('Consolidated Financial Statement Summary - company: '+name+'('+code+') updated on '+date_updated, fontsize=14, fontdict=kor_ft)\n",
    "    if path==None: \n",
    "        plt.show()\n",
    "    else: \n",
    "        plt.savefig(path)\n",
    "\n",
    "\n",
    "def _plot_barline(ax, data, y1, y2, y3, y4=None):\n",
    "    axr = ax.twinx()\n",
    "    if y4 != None:\n",
    "        tx = data.loc[y1].isnull()*data.loc[y2].isnull().values*data.loc[y4].isnull().values\n",
    "    else: \n",
    "        tx = data.loc[y1].isnull()*data.loc[y2].isnull().values\n",
    "    x = [s for s in data.columns.values if not tx[s]]\n",
    "\n",
    "    sns.set_color_codes(\"pastel\")\n",
    "    sns.barplot(x=x, y=data.loc[y1, x], ax = ax, label=y1, color=\"b\")\n",
    "    ax.ticklabel_format(axis='y', scilimits=[-3, 3])\n",
    "    t_ = ax.get_yticklabels()[-1].get_position()[1] / float(ax.get_yticklabels()[-1].get_text())\n",
    "\n",
    "    unit_list = ['uk_won','10 uk_won','100 uk_won','1,000 uk_won', 'jo_won', '10 jo_won', '100 jo_won']\n",
    "    unit_exp = unit_list[int(log10(t_))]\n",
    "\n",
    "    for index, value in enumerate(data.loc[y1, x]):\n",
    "        try:\n",
    "            v = str(round(value/t_, 1))\n",
    "            ax.text(index, value, v)\n",
    "        except: \n",
    "            pass\n",
    "\n",
    "    sns.set_color_codes(\"muted\")\n",
    "    sns.barplot(x=x, y=data.loc[y2, x], ax = ax, label=y2, color=\"b\")\n",
    "    for index, value in enumerate(data.loc[y2, x]):\n",
    "        try:\n",
    "            v = str(round(value/t_, 1))\n",
    "            ax.text(index, value, v)\n",
    "        except: \n",
    "            pass\n",
    "\n",
    "    if y4 != None:\n",
    "        sns.lineplot(x=x, y=data.loc[y4, x], ax = ax, label=y4, color=\"k\", marker='^')\n",
    "        for index, value in enumerate(data.loc[y4, x]):\n",
    "            try:\n",
    "                v = str(round(value/t_, 1))\n",
    "                ax.text(index, value, v)\n",
    "            except: \n",
    "                pass\n",
    "\n",
    "    ax.legend(ncol=1, loc=\"upper left\", frameon=False)\n",
    "    ax.set(ylabel=KRW_UNIT_STR)\n",
    "    if y4 != None:\n",
    "        ax.set_title(y1+', '+y2+', '+y4+', '+y3+' (unit: '+unit_exp+')')\n",
    "    else: \n",
    "        ax.set_title(y1+', '+y2+', '+y3+' (unit: '+unit_exp+')')\n",
    "\n",
    "    sns.lineplot(x=x, y=data.loc[y3, x], ax = axr, label=y3+'(%)', color=\"r\", marker='o')\n",
    "    for index, value in enumerate(data.loc[y3, x]):\n",
    "        try:\n",
    "            v = str(round(value, 1))\n",
    "            axr.text(index, value, v)\n",
    "        except: \n",
    "            pass\n",
    "\n",
    "    axr.legend(ncol=1, loc=\"upper left\", frameon=False, bbox_to_anchor=(0, 0.8))\n",
    "    axr.set(ylabel=\"percent(%)\")\n",
    "\n",
    "    ax.set_xlim(-0.5, len(x) - 0.5)\n",
    "    axr.set_xlim(-0.5, len(x) - 0.5)"
   ]
  },
  {
   "cell_type": "code",
   "execution_count": 34,
   "metadata": {},
   "outputs": [],
   "source": [
    "db = pd.read_feather('data/financial_reports_main.feather')"
   ]
  },
  {
   "cell_type": "code",
   "execution_count": null,
   "metadata": {},
   "outputs": [],
   "source": [
    "code = '005930'\n",
    "path = 'plots/'+code+'.png'\n",
    "plot_company_financial_summary(db, code, path)"
   ]
  },
  {
   "cell_type": "code",
   "execution_count": 62,
   "metadata": {},
   "outputs": [
    {
     "data": {
      "text/plain": [
       "1125.0"
      ]
     },
     "execution_count": 62,
     "metadata": {},
     "output_type": "execute_result"
    }
   ],
   "source": [
    "# organize the above into a function\n",
    "# make a company report \n",
    "# search by code\n",
    "# publish it to a webpage\n",
    "# company info update function\n",
    "# grouping... comparison by industry... \n",
    "# include private companies"
   ]
  },
  {
   "cell_type": "code",
   "execution_count": 60,
   "metadata": {},
   "outputs": [
    {
     "data": {
      "text/plain": [
       "1448"
      ]
     },
     "execution_count": 60,
     "metadata": {},
     "output_type": "execute_result"
    }
   ],
   "source": [
    "df_krx = pd.read_feather('data/df_krx.feather')\n",
    "len(df_krx.loc[df_krx['Marcap']>10**8*1000].index)"
   ]
  }
 ],
 "metadata": {
  "kernelspec": {
   "display_name": "venv",
   "language": "python",
   "name": "python3"
  },
  "language_info": {
   "codemirror_mode": {
    "name": "ipython",
    "version": 3
   },
   "file_extension": ".py",
   "mimetype": "text/x-python",
   "name": "python",
   "nbconvert_exporter": "python",
   "pygments_lexer": "ipython3",
   "version": "3.11.4"
  }
 },
 "nbformat": 4,
 "nbformat_minor": 2
}
